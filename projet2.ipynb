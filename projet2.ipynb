{
 "cells": [
  {
   "cell_type": "markdown",
   "metadata": {},
   "source": [
    "\n",
    "# Projet 2"
   ]
  },
  {
   "cell_type": "code",
   "execution_count": 1,
   "metadata": {
    "scrolled": false
   },
   "outputs": [],
   "source": [
    "# import des modules usuels\n",
    "import numpy as np\n",
    "import pandas as pd\n",
    "\n",
    "# options d'affichage\n",
    "pd.set_option(\"display.min_rows\", 16)"
   ]
  },
  {
   "cell_type": "code",
   "execution_count": 2,
   "metadata": {
    "scrolled": true
   },
   "outputs": [
    {
     "data": {
      "text/html": [
       "<div>\n",
       "<style scoped>\n",
       "    .dataframe tbody tr th:only-of-type {\n",
       "        vertical-align: middle;\n",
       "    }\n",
       "\n",
       "    .dataframe tbody tr th {\n",
       "        vertical-align: top;\n",
       "    }\n",
       "\n",
       "    .dataframe thead th {\n",
       "        text-align: right;\n",
       "    }\n",
       "</style>\n",
       "<table border=\"1\" class=\"dataframe\">\n",
       "  <thead>\n",
       "    <tr style=\"text-align: right;\">\n",
       "      <th></th>\n",
       "      <th>Code Postal</th>\n",
       "      <th>Commune</th>\n",
       "      <th>Département</th>\n",
       "      <th>Région</th>\n",
       "      <th>Statut</th>\n",
       "      <th>Altitude Moyenne</th>\n",
       "      <th>Superficie</th>\n",
       "      <th>Population</th>\n",
       "      <th>geo_point_2d</th>\n",
       "      <th>geo_shape</th>\n",
       "      <th>Latitude</th>\n",
       "      <th>Longitude</th>\n",
       "    </tr>\n",
       "    <tr>\n",
       "      <th>Code INSEE</th>\n",
       "      <th></th>\n",
       "      <th></th>\n",
       "      <th></th>\n",
       "      <th></th>\n",
       "      <th></th>\n",
       "      <th></th>\n",
       "      <th></th>\n",
       "      <th></th>\n",
       "      <th></th>\n",
       "      <th></th>\n",
       "      <th></th>\n",
       "      <th></th>\n",
       "    </tr>\n",
       "  </thead>\n",
       "  <tbody>\n",
       "    <tr>\n",
       "      <th>01001</th>\n",
       "      <td>01400</td>\n",
       "      <td>L'ABERGEMENT-CLEMENCIAT</td>\n",
       "      <td>AIN</td>\n",
       "      <td>RHONE-ALPES</td>\n",
       "      <td>Commune simple</td>\n",
       "      <td>242.0</td>\n",
       "      <td>1565.0</td>\n",
       "      <td>0.8</td>\n",
       "      <td>46.1534255214, 4.92611354223</td>\n",
       "      <td>{\"type\": \"Polygon\", \"coordinates\": [[[4.926273...</td>\n",
       "      <td>46.153426</td>\n",
       "      <td>4.926114</td>\n",
       "    </tr>\n",
       "    <tr>\n",
       "      <th>01002</th>\n",
       "      <td>01640</td>\n",
       "      <td>L'ABERGEMENT-DE-VAREY</td>\n",
       "      <td>AIN</td>\n",
       "      <td>RHONE-ALPES</td>\n",
       "      <td>Commune simple</td>\n",
       "      <td>483.0</td>\n",
       "      <td>912.0</td>\n",
       "      <td>0.2</td>\n",
       "      <td>46.0091878776, 5.42801696363</td>\n",
       "      <td>{\"type\": \"Polygon\", \"coordinates\": [[[5.430089...</td>\n",
       "      <td>46.009188</td>\n",
       "      <td>5.428017</td>\n",
       "    </tr>\n",
       "    <tr>\n",
       "      <th>01004</th>\n",
       "      <td>01500</td>\n",
       "      <td>AMBERIEU-EN-BUGEY</td>\n",
       "      <td>AIN</td>\n",
       "      <td>RHONE-ALPES</td>\n",
       "      <td>Chef-lieu canton</td>\n",
       "      <td>379.0</td>\n",
       "      <td>2448.0</td>\n",
       "      <td>13.4</td>\n",
       "      <td>45.9608475114, 5.3729257777</td>\n",
       "      <td>{\"type\": \"Polygon\", \"coordinates\": [[[5.386190...</td>\n",
       "      <td>45.960848</td>\n",
       "      <td>5.372926</td>\n",
       "    </tr>\n",
       "    <tr>\n",
       "      <th>01005</th>\n",
       "      <td>01330</td>\n",
       "      <td>AMBERIEUX-EN-DOMBES</td>\n",
       "      <td>AIN</td>\n",
       "      <td>RHONE-ALPES</td>\n",
       "      <td>Commune simple</td>\n",
       "      <td>290.0</td>\n",
       "      <td>1605.0</td>\n",
       "      <td>1.6</td>\n",
       "      <td>45.9961799872, 4.91227250796</td>\n",
       "      <td>{\"type\": \"Polygon\", \"coordinates\": [[[4.895580...</td>\n",
       "      <td>45.996180</td>\n",
       "      <td>4.912273</td>\n",
       "    </tr>\n",
       "    <tr>\n",
       "      <th>01006</th>\n",
       "      <td>01300</td>\n",
       "      <td>AMBLEON</td>\n",
       "      <td>AIN</td>\n",
       "      <td>RHONE-ALPES</td>\n",
       "      <td>Commune simple</td>\n",
       "      <td>589.0</td>\n",
       "      <td>602.0</td>\n",
       "      <td>0.1</td>\n",
       "      <td>45.7494989044, 5.59432017366</td>\n",
       "      <td>{\"type\": \"Polygon\", \"coordinates\": [[[5.614854...</td>\n",
       "      <td>45.749499</td>\n",
       "      <td>5.594320</td>\n",
       "    </tr>\n",
       "  </tbody>\n",
       "</table>\n",
       "</div>"
      ],
      "text/plain": [
       "           Code Postal                  Commune Département       Région  \\\n",
       "Code INSEE                                                                 \n",
       "01001            01400  L'ABERGEMENT-CLEMENCIAT         AIN  RHONE-ALPES   \n",
       "01002            01640    L'ABERGEMENT-DE-VAREY         AIN  RHONE-ALPES   \n",
       "01004            01500        AMBERIEU-EN-BUGEY         AIN  RHONE-ALPES   \n",
       "01005            01330      AMBERIEUX-EN-DOMBES         AIN  RHONE-ALPES   \n",
       "01006            01300                  AMBLEON         AIN  RHONE-ALPES   \n",
       "\n",
       "                      Statut  Altitude Moyenne  Superficie  Population  \\\n",
       "Code INSEE                                                               \n",
       "01001         Commune simple             242.0      1565.0         0.8   \n",
       "01002         Commune simple             483.0       912.0         0.2   \n",
       "01004       Chef-lieu canton             379.0      2448.0        13.4   \n",
       "01005         Commune simple             290.0      1605.0         1.6   \n",
       "01006         Commune simple             589.0       602.0         0.1   \n",
       "\n",
       "                            geo_point_2d  \\\n",
       "Code INSEE                                 \n",
       "01001       46.1534255214, 4.92611354223   \n",
       "01002       46.0091878776, 5.42801696363   \n",
       "01004        45.9608475114, 5.3729257777   \n",
       "01005       45.9961799872, 4.91227250796   \n",
       "01006       45.7494989044, 5.59432017366   \n",
       "\n",
       "                                                    geo_shape   Latitude  \\\n",
       "Code INSEE                                                                 \n",
       "01001       {\"type\": \"Polygon\", \"coordinates\": [[[4.926273...  46.153426   \n",
       "01002       {\"type\": \"Polygon\", \"coordinates\": [[[5.430089...  46.009188   \n",
       "01004       {\"type\": \"Polygon\", \"coordinates\": [[[5.386190...  45.960848   \n",
       "01005       {\"type\": \"Polygon\", \"coordinates\": [[[4.895580...  45.996180   \n",
       "01006       {\"type\": \"Polygon\", \"coordinates\": [[[5.614854...  45.749499   \n",
       "\n",
       "            Longitude  \n",
       "Code INSEE             \n",
       "01001        4.926114  \n",
       "01002        5.428017  \n",
       "01004        5.372926  \n",
       "01005        4.912273  \n",
       "01006        5.594320  "
      ]
     },
     "execution_count": 2,
     "metadata": {},
     "output_type": "execute_result"
    }
   ],
   "source": [
    "# chargement et traitement des données\n",
    "geo = pd.read_csv(\"correspondance-code-insee-code-postal.csv\",\n",
    "                   sep=';',\n",
    "                   usecols=range(11),\n",
    "                   index_col=\"Code INSEE\")\n",
    "geo = geo.sort_index()\n",
    "geo[['Latitude', 'Longitude']] = geo[\"geo_point_2d\"].str.extract(\"(.*), (.*)\").astype(float)\n",
    "geo.head()"
   ]
  },
  {
   "cell_type": "markdown",
   "metadata": {},
   "source": [
    "**Projet maison n° 1**\n",
    "\n",
    "- Ajoutez une colonne 'CP Ville' avec le Code postal + un espace + et le nom de la Ville.\n",
    "- Ecrivez une fonction qui détermine la commune la plus proche d'un point à partir de sa latitude et sa longitude.\n",
    "- Ajoutez une fonction de conversion pour pouvoir utiliser la première fonction avec un GPS (degrés, minutes, secondes)."
   ]
  },
  {
   "cell_type": "code",
   "execution_count": 3,
   "metadata": {
    "scrolled": true
   },
   "outputs": [
    {
     "data": {
      "text/html": [
       "<div>\n",
       "<style scoped>\n",
       "    .dataframe tbody tr th:only-of-type {\n",
       "        vertical-align: middle;\n",
       "    }\n",
       "\n",
       "    .dataframe tbody tr th {\n",
       "        vertical-align: top;\n",
       "    }\n",
       "\n",
       "    .dataframe thead th {\n",
       "        text-align: right;\n",
       "    }\n",
       "</style>\n",
       "<table border=\"1\" class=\"dataframe\">\n",
       "  <thead>\n",
       "    <tr style=\"text-align: right;\">\n",
       "      <th></th>\n",
       "      <th>Code Postal</th>\n",
       "      <th>Commune</th>\n",
       "      <th>Département</th>\n",
       "      <th>Région</th>\n",
       "      <th>Statut</th>\n",
       "      <th>Altitude Moyenne</th>\n",
       "      <th>Superficie</th>\n",
       "      <th>Population</th>\n",
       "      <th>geo_point_2d</th>\n",
       "      <th>geo_shape</th>\n",
       "      <th>Latitude</th>\n",
       "      <th>Longitude</th>\n",
       "      <th>CP Ville</th>\n",
       "    </tr>\n",
       "    <tr>\n",
       "      <th>Code INSEE</th>\n",
       "      <th></th>\n",
       "      <th></th>\n",
       "      <th></th>\n",
       "      <th></th>\n",
       "      <th></th>\n",
       "      <th></th>\n",
       "      <th></th>\n",
       "      <th></th>\n",
       "      <th></th>\n",
       "      <th></th>\n",
       "      <th></th>\n",
       "      <th></th>\n",
       "      <th></th>\n",
       "    </tr>\n",
       "  </thead>\n",
       "  <tbody>\n",
       "    <tr>\n",
       "      <th>01001</th>\n",
       "      <td>01400</td>\n",
       "      <td>L'ABERGEMENT-CLEMENCIAT</td>\n",
       "      <td>AIN</td>\n",
       "      <td>RHONE-ALPES</td>\n",
       "      <td>Commune simple</td>\n",
       "      <td>242.0</td>\n",
       "      <td>1565.0</td>\n",
       "      <td>0.8</td>\n",
       "      <td>46.1534255214, 4.92611354223</td>\n",
       "      <td>{\"type\": \"Polygon\", \"coordinates\": [[[4.926273...</td>\n",
       "      <td>46.153426</td>\n",
       "      <td>4.926114</td>\n",
       "      <td>01400 L'ABERGEMENT-CLEMENCIAT</td>\n",
       "    </tr>\n",
       "    <tr>\n",
       "      <th>01002</th>\n",
       "      <td>01640</td>\n",
       "      <td>L'ABERGEMENT-DE-VAREY</td>\n",
       "      <td>AIN</td>\n",
       "      <td>RHONE-ALPES</td>\n",
       "      <td>Commune simple</td>\n",
       "      <td>483.0</td>\n",
       "      <td>912.0</td>\n",
       "      <td>0.2</td>\n",
       "      <td>46.0091878776, 5.42801696363</td>\n",
       "      <td>{\"type\": \"Polygon\", \"coordinates\": [[[5.430089...</td>\n",
       "      <td>46.009188</td>\n",
       "      <td>5.428017</td>\n",
       "      <td>01640 L'ABERGEMENT-DE-VAREY</td>\n",
       "    </tr>\n",
       "    <tr>\n",
       "      <th>01004</th>\n",
       "      <td>01500</td>\n",
       "      <td>AMBERIEU-EN-BUGEY</td>\n",
       "      <td>AIN</td>\n",
       "      <td>RHONE-ALPES</td>\n",
       "      <td>Chef-lieu canton</td>\n",
       "      <td>379.0</td>\n",
       "      <td>2448.0</td>\n",
       "      <td>13.4</td>\n",
       "      <td>45.9608475114, 5.3729257777</td>\n",
       "      <td>{\"type\": \"Polygon\", \"coordinates\": [[[5.386190...</td>\n",
       "      <td>45.960848</td>\n",
       "      <td>5.372926</td>\n",
       "      <td>01500 AMBERIEU-EN-BUGEY</td>\n",
       "    </tr>\n",
       "    <tr>\n",
       "      <th>01005</th>\n",
       "      <td>01330</td>\n",
       "      <td>AMBERIEUX-EN-DOMBES</td>\n",
       "      <td>AIN</td>\n",
       "      <td>RHONE-ALPES</td>\n",
       "      <td>Commune simple</td>\n",
       "      <td>290.0</td>\n",
       "      <td>1605.0</td>\n",
       "      <td>1.6</td>\n",
       "      <td>45.9961799872, 4.91227250796</td>\n",
       "      <td>{\"type\": \"Polygon\", \"coordinates\": [[[4.895580...</td>\n",
       "      <td>45.996180</td>\n",
       "      <td>4.912273</td>\n",
       "      <td>01330 AMBERIEUX-EN-DOMBES</td>\n",
       "    </tr>\n",
       "    <tr>\n",
       "      <th>01006</th>\n",
       "      <td>01300</td>\n",
       "      <td>AMBLEON</td>\n",
       "      <td>AIN</td>\n",
       "      <td>RHONE-ALPES</td>\n",
       "      <td>Commune simple</td>\n",
       "      <td>589.0</td>\n",
       "      <td>602.0</td>\n",
       "      <td>0.1</td>\n",
       "      <td>45.7494989044, 5.59432017366</td>\n",
       "      <td>{\"type\": \"Polygon\", \"coordinates\": [[[5.614854...</td>\n",
       "      <td>45.749499</td>\n",
       "      <td>5.594320</td>\n",
       "      <td>01300 AMBLEON</td>\n",
       "    </tr>\n",
       "    <tr>\n",
       "      <th>01007</th>\n",
       "      <td>01500</td>\n",
       "      <td>AMBRONAY</td>\n",
       "      <td>AIN</td>\n",
       "      <td>RHONE-ALPES</td>\n",
       "      <td>Commune simple</td>\n",
       "      <td>309.0</td>\n",
       "      <td>3359.0</td>\n",
       "      <td>2.3</td>\n",
       "      <td>46.0055913782, 5.35760660735</td>\n",
       "      <td>{\"type\": \"Polygon\", \"coordinates\": [[[5.413533...</td>\n",
       "      <td>46.005591</td>\n",
       "      <td>5.357607</td>\n",
       "      <td>01500 AMBRONAY</td>\n",
       "    </tr>\n",
       "    <tr>\n",
       "      <th>01008</th>\n",
       "      <td>01500</td>\n",
       "      <td>AMBUTRIX</td>\n",
       "      <td>AIN</td>\n",
       "      <td>RHONE-ALPES</td>\n",
       "      <td>Commune simple</td>\n",
       "      <td>274.0</td>\n",
       "      <td>518.0</td>\n",
       "      <td>0.7</td>\n",
       "      <td>45.9367134524, 5.3328092349</td>\n",
       "      <td>{\"type\": \"Polygon\", \"coordinates\": [[[5.321986...</td>\n",
       "      <td>45.936713</td>\n",
       "      <td>5.332809</td>\n",
       "      <td>01500 AMBUTRIX</td>\n",
       "    </tr>\n",
       "    <tr>\n",
       "      <th>01009</th>\n",
       "      <td>01300</td>\n",
       "      <td>ANDERT-ET-CONDON</td>\n",
       "      <td>AIN</td>\n",
       "      <td>RHONE-ALPES</td>\n",
       "      <td>Commune simple</td>\n",
       "      <td>294.0</td>\n",
       "      <td>696.0</td>\n",
       "      <td>0.3</td>\n",
       "      <td>45.7873565333, 5.65788307924</td>\n",
       "      <td>{\"type\": \"Polygon\", \"coordinates\": [[[5.656393...</td>\n",
       "      <td>45.787357</td>\n",
       "      <td>5.657883</td>\n",
       "      <td>01300 ANDERT-ET-CONDON</td>\n",
       "    </tr>\n",
       "    <tr>\n",
       "      <th>01010</th>\n",
       "      <td>01350</td>\n",
       "      <td>ANGLEFORT</td>\n",
       "      <td>AIN</td>\n",
       "      <td>RHONE-ALPES</td>\n",
       "      <td>Commune simple</td>\n",
       "      <td>706.0</td>\n",
       "      <td>2948.0</td>\n",
       "      <td>1.0</td>\n",
       "      <td>45.9093715116, 5.79516005674</td>\n",
       "      <td>{\"type\": \"Polygon\", \"coordinates\": [[[5.815154...</td>\n",
       "      <td>45.909372</td>\n",
       "      <td>5.795160</td>\n",
       "      <td>01350 ANGLEFORT</td>\n",
       "    </tr>\n",
       "    <tr>\n",
       "      <th>01011</th>\n",
       "      <td>01100</td>\n",
       "      <td>APREMONT</td>\n",
       "      <td>AIN</td>\n",
       "      <td>RHONE-ALPES</td>\n",
       "      <td>Commune simple</td>\n",
       "      <td>927.0</td>\n",
       "      <td>1507.0</td>\n",
       "      <td>0.4</td>\n",
       "      <td>46.2054981558, 5.65781475272</td>\n",
       "      <td>{\"type\": \"Polygon\", \"coordinates\": [[[5.643941...</td>\n",
       "      <td>46.205498</td>\n",
       "      <td>5.657815</td>\n",
       "      <td>01100 APREMONT</td>\n",
       "    </tr>\n",
       "  </tbody>\n",
       "</table>\n",
       "</div>"
      ],
      "text/plain": [
       "           Code Postal                  Commune Département       Région  \\\n",
       "Code INSEE                                                                 \n",
       "01001            01400  L'ABERGEMENT-CLEMENCIAT         AIN  RHONE-ALPES   \n",
       "01002            01640    L'ABERGEMENT-DE-VAREY         AIN  RHONE-ALPES   \n",
       "01004            01500        AMBERIEU-EN-BUGEY         AIN  RHONE-ALPES   \n",
       "01005            01330      AMBERIEUX-EN-DOMBES         AIN  RHONE-ALPES   \n",
       "01006            01300                  AMBLEON         AIN  RHONE-ALPES   \n",
       "01007            01500                 AMBRONAY         AIN  RHONE-ALPES   \n",
       "01008            01500                 AMBUTRIX         AIN  RHONE-ALPES   \n",
       "01009            01300         ANDERT-ET-CONDON         AIN  RHONE-ALPES   \n",
       "01010            01350                ANGLEFORT         AIN  RHONE-ALPES   \n",
       "01011            01100                 APREMONT         AIN  RHONE-ALPES   \n",
       "\n",
       "                      Statut  Altitude Moyenne  Superficie  Population  \\\n",
       "Code INSEE                                                               \n",
       "01001         Commune simple             242.0      1565.0         0.8   \n",
       "01002         Commune simple             483.0       912.0         0.2   \n",
       "01004       Chef-lieu canton             379.0      2448.0        13.4   \n",
       "01005         Commune simple             290.0      1605.0         1.6   \n",
       "01006         Commune simple             589.0       602.0         0.1   \n",
       "01007         Commune simple             309.0      3359.0         2.3   \n",
       "01008         Commune simple             274.0       518.0         0.7   \n",
       "01009         Commune simple             294.0       696.0         0.3   \n",
       "01010         Commune simple             706.0      2948.0         1.0   \n",
       "01011         Commune simple             927.0      1507.0         0.4   \n",
       "\n",
       "                            geo_point_2d  \\\n",
       "Code INSEE                                 \n",
       "01001       46.1534255214, 4.92611354223   \n",
       "01002       46.0091878776, 5.42801696363   \n",
       "01004        45.9608475114, 5.3729257777   \n",
       "01005       45.9961799872, 4.91227250796   \n",
       "01006       45.7494989044, 5.59432017366   \n",
       "01007       46.0055913782, 5.35760660735   \n",
       "01008        45.9367134524, 5.3328092349   \n",
       "01009       45.7873565333, 5.65788307924   \n",
       "01010       45.9093715116, 5.79516005674   \n",
       "01011       46.2054981558, 5.65781475272   \n",
       "\n",
       "                                                    geo_shape   Latitude  \\\n",
       "Code INSEE                                                                 \n",
       "01001       {\"type\": \"Polygon\", \"coordinates\": [[[4.926273...  46.153426   \n",
       "01002       {\"type\": \"Polygon\", \"coordinates\": [[[5.430089...  46.009188   \n",
       "01004       {\"type\": \"Polygon\", \"coordinates\": [[[5.386190...  45.960848   \n",
       "01005       {\"type\": \"Polygon\", \"coordinates\": [[[4.895580...  45.996180   \n",
       "01006       {\"type\": \"Polygon\", \"coordinates\": [[[5.614854...  45.749499   \n",
       "01007       {\"type\": \"Polygon\", \"coordinates\": [[[5.413533...  46.005591   \n",
       "01008       {\"type\": \"Polygon\", \"coordinates\": [[[5.321986...  45.936713   \n",
       "01009       {\"type\": \"Polygon\", \"coordinates\": [[[5.656393...  45.787357   \n",
       "01010       {\"type\": \"Polygon\", \"coordinates\": [[[5.815154...  45.909372   \n",
       "01011       {\"type\": \"Polygon\", \"coordinates\": [[[5.643941...  46.205498   \n",
       "\n",
       "            Longitude                       CP Ville  \n",
       "Code INSEE                                            \n",
       "01001        4.926114  01400 L'ABERGEMENT-CLEMENCIAT  \n",
       "01002        5.428017    01640 L'ABERGEMENT-DE-VAREY  \n",
       "01004        5.372926        01500 AMBERIEU-EN-BUGEY  \n",
       "01005        4.912273      01330 AMBERIEUX-EN-DOMBES  \n",
       "01006        5.594320                  01300 AMBLEON  \n",
       "01007        5.357607                 01500 AMBRONAY  \n",
       "01008        5.332809                 01500 AMBUTRIX  \n",
       "01009        5.657883         01300 ANDERT-ET-CONDON  \n",
       "01010        5.795160                01350 ANGLEFORT  \n",
       "01011        5.657815                 01100 APREMONT  "
      ]
     },
     "execution_count": 3,
     "metadata": {},
     "output_type": "execute_result"
    }
   ],
   "source": [
    "#Ajoutez une colonne 'CP Ville' avec le Code postal + un espace + et le nom de la Ville\n",
    "\n",
    "geo[\"CP Ville\"]=geo[\"Code Postal\"] + \" \" + geo[\"Commune\"]\n",
    "\n",
    "geo.head(10)\n"
   ]
  },
  {
   "cell_type": "code",
   "execution_count": 4,
   "metadata": {},
   "outputs": [],
   "source": [
    "# fonction recherche de ville\n",
    "def ville(lat, long):\n",
    "    distance_lat = (geo[\"Latitude\"]-lat)**2\n",
    "    distance_long = (geo[\"Longitude\"]-long)**2\n",
    "    distance_min = (distance_lat + distance_long)\n",
    "    \n",
    "    return geo[\"Commune\"][distance_min.idxmin()]"
   ]
  },
  {
   "cell_type": "code",
   "execution_count": 5,
   "metadata": {
    "scrolled": false
   },
   "outputs": [],
   "source": [
    "# conversion degrés, minutes, secondes => décimal\n",
    "def dms2dec(deg, mn, sec):\n",
    "    return deg + mn / 60 + sec / 3600"
   ]
  },
  {
   "cell_type": "code",
   "execution_count": 6,
   "metadata": {
    "scrolled": false
   },
   "outputs": [
    {
     "data": {
      "text/plain": [
       "'BOSJEAN'"
      ]
     },
     "execution_count": 6,
     "metadata": {},
     "output_type": "execute_result"
    }
   ],
   "source": [
    "# on applique la fonction à une coordonnée tirée au hasard\n",
    "# init du random\n",
    "np.random.seed(0)\n",
    "\n",
    "a, b = 41.5, 51.1  # latitude min et max de la France métropolitaine\n",
    "lat = (b - a) * np.random.random() + a\n",
    "a, b = -5.1, 9.5  # longitude min et max de la France métropolitaine\n",
    "long = (b - a) * np.random.random() + a\n",
    "\n",
    "ville(lat, long)"
   ]
  },
  {
   "cell_type": "code",
   "execution_count": 7,
   "metadata": {
    "scrolled": false
   },
   "outputs": [
    {
     "data": {
      "text/plain": [
       "'PALAISEAU'"
      ]
     },
     "execution_count": 7,
     "metadata": {},
     "output_type": "execute_result"
    }
   ],
   "source": [
    "# à partir de coordonnées GPS précises\n",
    "ville(dms2dec(48, 42, 52), dms2dec(2, 14, 45))"
   ]
  },
  {
   "cell_type": "markdown",
   "metadata": {},
   "source": [
    "**Projet maison n° 2**\n",
    "\n",
    "La colonne \"geo_shape\" comporte des chaines de catactères au format JSON. Elles représentent les formes géométriques des communes qui sont soit des polygones soit composées de plusieurs polygones.\n",
    "\n",
    "- Utiliser la librairie Python json pour parser la colonne \"geo_shape\".\n",
    "- Donner le décompte des valeurs accédées avec la clé \"type\".\n",
    "- Donner le décompte des longueurs des listes accédées avec la clé \"coordinates\".\n",
    "- Quelle commune est la plus complexe géométriquement ?\n",
    "- Quelle commune est la seconde la plus complexe géométriquement ?\n",
    "- Quelles sont les villes qui sont de type \"Polygon\" mais dont la longueur des listes accédées avec la clé \"coordinates\" vaut 2 ?\n",
    "- Pour ces villes vérifier que le premier polygone contient bien le second (enclave). NB : installer la librairie shapely, utiliser la classe Polygon de shapely.geometry. Sur Windows shapely peut nécessiter d'installer la dll \"geos_c.dll\" dans le répertoire \"Library/bin\" de votre environnement Python."
   ]
  },
  {
   "cell_type": "code",
   "execution_count": 8,
   "metadata": {},
   "outputs": [
    {
     "name": "stdout",
     "output_type": "stream",
     "text": [
      "{\"type\": \"Polygon\", \"coordinates\": [[[4.92627342692396, 46.1200517234555], [4.92199538031264, 46.12069170563269], [4.921996260482057, 46.12663667307488], [4.90936269187648, 46.129164756530656], [4.916016986429157, 46.14461766984426], [4.903080786126749, 46.157977074275074], [4.904571300671208, 46.16096059498421], [4.910603091203733, 46.180432597608316], [4.914119126867876, 46.18271538441311], [4.932895432675545, 46.18304616431434], [4.938729478686701, 46.17383114520867], [4.933038591703602, 46.16429901579509], [4.958286230120842, 46.153246666893935], [4.943330383388636, 46.145964148557894], [4.939154593056283, 46.12938048470421], [4.931056072485923, 46.12087123131487], [4.92627342692396, 46.1200517234555]]]}\n"
     ]
    },
    {
     "data": {
      "text/plain": [
       "dict"
      ]
     },
     "execution_count": 8,
     "metadata": {},
     "output_type": "execute_result"
    }
   ],
   "source": [
    "import json\n",
    "y = geo.loc[\"01001\", \"geo_shape\"]\n",
    "print(y)\n",
    "d = json.loads(y)\n",
    "\n",
    "d[\"coordinates\"]\n",
    "\n",
    "type(d)\n",
    "\n"
   ]
  },
  {
   "cell_type": "code",
   "execution_count": 9,
   "metadata": {},
   "outputs": [
    {
     "data": {
      "text/plain": [
       "'o'"
      ]
     },
     "execution_count": 9,
     "metadata": {},
     "output_type": "execute_result"
    }
   ],
   "source": [
    "d['type'][1]"
   ]
  },
  {
   "cell_type": "code",
   "execution_count": 10,
   "metadata": {},
   "outputs": [
    {
     "data": {
      "text/plain": [
       "[4.92199538031264, 46.12069170563269]"
      ]
     },
     "execution_count": 10,
     "metadata": {},
     "output_type": "execute_result"
    }
   ],
   "source": [
    "d['coordinates'][0][1]"
   ]
  },
  {
   "cell_type": "code",
   "execution_count": 32,
   "metadata": {},
   "outputs": [
    {
     "data": {
      "text/plain": [
       "Code INSEE\n",
       "01001    {'type': 'Polygon', 'coordinates': [[[4.926273...\n",
       "01002    {'type': 'Polygon', 'coordinates': [[[5.430089...\n",
       "01004    {'type': 'Polygon', 'coordinates': [[[5.386190...\n",
       "01005    {'type': 'Polygon', 'coordinates': [[[4.895580...\n",
       "01006    {'type': 'Polygon', 'coordinates': [[[5.614854...\n",
       "01007    {'type': 'Polygon', 'coordinates': [[[5.413533...\n",
       "01008    {'type': 'Polygon', 'coordinates': [[[5.321986...\n",
       "01009    {'type': 'Polygon', 'coordinates': [[[5.656393...\n",
       "                               ...                        \n",
       "97610    {'type': 'Polygon', 'coordinates': [[[45.23692...\n",
       "97611    {'type': 'Polygon', 'coordinates': [[[45.19781...\n",
       "97612    {'type': 'MultiPolygon', 'coordinates': [[[[45...\n",
       "97613    {'type': 'Polygon', 'coordinates': [[[45.10168...\n",
       "97614    {'type': 'Polygon', 'coordinates': [[[45.15401...\n",
       "97615    {'type': 'Polygon', 'coordinates': [[[45.29645...\n",
       "97616    {'type': 'Polygon', 'coordinates': [[[45.13226...\n",
       "97617    {'type': 'Polygon', 'coordinates': [[[45.15256...\n",
       "Name: geo_shape, Length: 36742, dtype: object"
      ]
     },
     "execution_count": 32,
     "metadata": {},
     "output_type": "execute_result"
    }
   ],
   "source": [
    "#Utiliser la librairie Python json pour parser la colonne \"geo_shape\"\n",
    "geoshape_parse = geo[\"geo_shape\"].apply(json.loads)\n",
    "\n",
    "geoshape_parse"
   ]
  },
  {
   "cell_type": "code",
   "execution_count": 12,
   "metadata": {},
   "outputs": [
    {
     "data": {
      "text/plain": [
       "Polygon         36670\n",
       "MultiPolygon       72\n",
       "Name: geo_shape, dtype: int64"
      ]
     },
     "execution_count": 12,
     "metadata": {},
     "output_type": "execute_result"
    }
   ],
   "source": [
    "#Donner le décompte des valeurs accédées avec la clé \"type\"\n",
    "\n",
    "def getkey(line) :\n",
    "    \n",
    "    dict_key=json.loads(line)\n",
    "    return dict_key[\"type\"]\n",
    "    \n",
    "\n",
    "geoshape_type = geo[\"geo_shape\"].apply(getkey)\n",
    "\n",
    "geoshape_type.value_counts()"
   ]
  },
  {
   "cell_type": "code",
   "execution_count": 13,
   "metadata": {},
   "outputs": [
    {
     "data": {
      "text/plain": [
       "1    36660\n",
       "2       80\n",
       "3        1\n",
       "4        1\n",
       "Name: geo_shape, dtype: int64"
      ]
     },
     "execution_count": 13,
     "metadata": {},
     "output_type": "execute_result"
    }
   ],
   "source": [
    "#Donner le décompte des longueurs des listes accédées avec la clé \"coordinates\"\n",
    "\n",
    "\n",
    "geoshape_coordinates = geoshape_parse.apply(lambda row : row[\"coordinates\"])\n",
    "\n",
    "geoshape_coordinates.apply(len).value_counts()"
   ]
  },
  {
   "cell_type": "code",
   "execution_count": 23,
   "metadata": {},
   "outputs": [
    {
     "data": {
      "text/plain": [
       "Code INSEE\n",
       "83069    HYERES\n",
       "Name: Commune, dtype: object"
      ]
     },
     "execution_count": 23,
     "metadata": {},
     "output_type": "execute_result"
    }
   ],
   "source": [
    "#Quelle commune est la plus complexe géométriquement ?\n",
    "\n",
    "geoshape_coordinates_length_4 = geoshape_coordinates.apply(len)==4\n",
    "\n",
    "geo[\"Commune\"].loc[geoshape_coordinates_length_4]"
   ]
  },
  {
   "cell_type": "code",
   "execution_count": 25,
   "metadata": {},
   "outputs": [
    {
     "data": {
      "text/plain": [
       "Code INSEE\n",
       "27701    VAL-DE-REUIL\n",
       "Name: Commune, dtype: object"
      ]
     },
     "execution_count": 25,
     "metadata": {},
     "output_type": "execute_result"
    }
   ],
   "source": [
    "#Quelle commune est la seconde la plus complexe géométriquement ?\n",
    "\n",
    "geoshape_coordinates_length_3 = geoshape_coordinates.apply(len)==3\n",
    "\n",
    "geo[\"Commune\"].loc[geoshape_coordinates_length_3]"
   ]
  },
  {
   "cell_type": "code",
   "execution_count": 38,
   "metadata": {},
   "outputs": [
    {
     "data": {
      "text/plain": [
       "Code INSEE\n",
       "02232               COYOLLES\n",
       "05052               EYGLIERS\n",
       "09042    LA BASTIDE-DE-SEROU\n",
       "22209              PLOUBALAY\n",
       "2A272                SARTENE\n",
       "2B049              CALENZANA\n",
       "48080               LANGOGNE\n",
       "67486              SUNDHOUSE\n",
       "68078              EGUISHEIM\n",
       "71028            BEAUVERNOIS\n",
       "Name: Commune, dtype: object"
      ]
     },
     "execution_count": 38,
     "metadata": {},
     "output_type": "execute_result"
    }
   ],
   "source": [
    "#Quelles sont les villes qui sont de type \"Polygon\" mais dont la longueur des listes accédées avec la clé \"coordinates\" vaut 2 ?\n",
    "\n",
    "geoshape_coordinates_length_2 = geoshape_coordinates.apply(len)==2\n",
    "\n",
    "type_polygon = geoshape_parse.apply(lambda row : row[\"type\"])==\"Polygon\"\n",
    "\n",
    "geo[\"Commune\"].loc[geoshape_coordinates_length_2 & type_polygon]"
   ]
  },
  {
   "cell_type": "code",
   "execution_count": 44,
   "metadata": {
    "scrolled": false
   },
   "outputs": [
    {
     "ename": "ModuleNotFoundError",
     "evalue": "No module named 'shapely'",
     "output_type": "error",
     "traceback": [
      "\u001b[1;31m---------------------------------------------------------------------------\u001b[0m",
      "\u001b[1;31mModuleNotFoundError\u001b[0m                       Traceback (most recent call last)",
      "\u001b[1;32m<ipython-input-44-2c18d54ac952>\u001b[0m in \u001b[0;36m<module>\u001b[1;34m\u001b[0m\n\u001b[0;32m      1\u001b[0m \u001b[1;31m#Pour ces villes vérifier que le premier polygone contient bien le second (enclave). Nota bene : installer la librairie shapely, utiliser la classe Polygon de shapely.geometry. Sur Windows shapely peut nécessiter d'installer la dll \"geos_c.dll\" dans le répertoire \"Library/bin\" de votre environnement Python.\u001b[0m\u001b[1;33m\u001b[0m\u001b[1;33m\u001b[0m\u001b[1;33m\u001b[0m\u001b[0m\n\u001b[0;32m      2\u001b[0m \u001b[1;33m\u001b[0m\u001b[0m\n\u001b[1;32m----> 3\u001b[1;33m \u001b[1;32mfrom\u001b[0m \u001b[0mshapely\u001b[0m\u001b[1;33m.\u001b[0m\u001b[0mgeometry\u001b[0m \u001b[1;32mimport\u001b[0m \u001b[0mPolygon\u001b[0m\u001b[1;33m\u001b[0m\u001b[1;33m\u001b[0m\u001b[0m\n\u001b[0m\u001b[0;32m      4\u001b[0m \u001b[1;33m\u001b[0m\u001b[0m\n\u001b[0;32m      5\u001b[0m \u001b[0mgeoshapeparse_length_2_type_polygon\u001b[0m \u001b[1;33m=\u001b[0m \u001b[0mgeoshape_parse\u001b[0m\u001b[1;33m.\u001b[0m\u001b[0mgeo\u001b[0m\u001b[1;33m[\u001b[0m\u001b[1;34m\"geo_shape\"\u001b[0m\u001b[1;33m]\u001b[0m\u001b[1;33m.\u001b[0m\u001b[0mloc\u001b[0m\u001b[1;33m[\u001b[0m\u001b[0mgeoshape_coordinates_length_2\u001b[0m \u001b[1;33m&\u001b[0m \u001b[0mtype_polygon\u001b[0m\u001b[1;33m]\u001b[0m\u001b[1;33m\u001b[0m\u001b[1;33m\u001b[0m\u001b[0m\n",
      "\u001b[1;31mModuleNotFoundError\u001b[0m: No module named 'shapely'"
     ]
    }
   ],
   "source": [
    "#Pour ces villes vérifier que le premier polygone contient bien le second (enclave). Nota bene : installer la librairie shapely, utiliser la classe Polygon de shapely.geometry. Sur Windows shapely peut nécessiter d'installer la dll \"geos_c.dll\" dans le répertoire \"Library/bin\" de votre environnement Python.\n",
    "\n",
    "from shapely.geometry import Polygon\n",
    "\n",
    "geoshapeparse_length_2_type_polygon = geoshape_parse.geo[\"geo_shape\"].loc[geoshape_coordinates_length_2 & type_polygon]\n",
    "\n",
    "\n",
    "geoshapeparse_length_2_type_polygon.apply(lambda row : row [\"coordinates\"]).apply(lambda x : Polygon(x[0]).contains(Polygon(x[1])))"
   ]
  },
  {
   "cell_type": "code",
   "execution_count": null,
   "metadata": {},
   "outputs": [],
   "source": []
  },
  {
   "cell_type": "code",
   "execution_count": null,
   "metadata": {},
   "outputs": [],
   "source": []
  },
  {
   "cell_type": "code",
   "execution_count": null,
   "metadata": {},
   "outputs": [],
   "source": []
  }
 ],
 "metadata": {
  "anaconda-cloud": {},
  "kernelspec": {
   "display_name": "Python 3",
   "language": "python",
   "name": "python3"
  },
  "language_info": {
   "codemirror_mode": {
    "name": "ipython",
    "version": 3
   },
   "file_extension": ".py",
   "mimetype": "text/x-python",
   "name": "python",
   "nbconvert_exporter": "python",
   "pygments_lexer": "ipython3",
   "version": "3.8.8"
  }
 },
 "nbformat": 4,
 "nbformat_minor": 1
}
